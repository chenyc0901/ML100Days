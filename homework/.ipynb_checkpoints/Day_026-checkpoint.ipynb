{
 "cells": [
  {
   "cell_type": "markdown",
   "metadata": {},
   "source": [
    "## 作業:\n",
    "今天學到不同統計量之間特性，  \n",
    "試著分析男生女生身高資料，  \n",
    "試著回答下面的問題:  \n",
    "Q1:試著用今天所教的內容，如何描述這兩組資料的樣態?    \n",
    "Q2: 請問男生和女生在平均身高上誰比較高?   \n",
    "Q3:請問第二題的答案和日常生活中觀察的一致嗎? 如果不一致，你覺得原因可能為何?    \n",
    "上述問題透過  python 語法進行運算，\n",
    "並將上述答案填寫在 (google 表單)[https://forms.gle/EDdU2Zfq8zLvDea18]\n",
    "![](作業資料圖檔.PNG)"
   ]
  },
  {
   "cell_type": "code",
   "execution_count": 1,
   "metadata": {
    "colab": {
     "base_uri": "https://localhost:8080/",
     "height": 34
    },
    "colab_type": "code",
    "executionInfo": {
     "elapsed": 1558,
     "status": "ok",
     "timestamp": 1578021044012,
     "user": {
      "displayName": "Mora chen",
      "photoUrl": "https://lh3.googleusercontent.com/a-/AAuE7mB40f7sDArbZ5_DYq02nNcnLD0Ryaf7AhsASSQeLQ=s64",
      "userId": "03171203089166907199"
     },
     "user_tz": -480
    },
    "id": "yz28_IgkYdBW",
    "outputId": "a12f486c-18b3-4fb5-d06c-f162aebd9444"
   },
   "outputs": [],
   "source": [
    "# library\n",
    "import matplotlib.pyplot as plt\n",
    "import numpy as np\n",
    "import pandas as pd\n",
    "from scipy import stats\n",
    "import math\n",
    "import statistics\n",
    "import seaborn as sns"
   ]
  },
  {
   "cell_type": "code",
   "execution_count": 2,
   "metadata": {},
   "outputs": [],
   "source": [
    "## 輸入資料\n",
    "boys=[164, 176, 169, 169, 165, 175, 159, 151, 144, 160, 183, 165, 156, 170,\n",
    " 164, 173, 165, 163, 177, 171]\n",
    "\n",
    "girls=[169, 183, 170, 168, 182, 170, 173, 185, 151, 156, 162, 169, 162, 181,\n",
    " 159, 154, 167, 175, 170, 160]"
   ]
  },
  {
   "cell_type": "code",
   "execution_count": 3,
   "metadata": {},
   "outputs": [
    {
     "name": "stdout",
     "output_type": "stream",
     "text": [
      "男孩身高平均= 165.95\n",
      "女孩身高平均= 168.3\n",
      "男孩身高中位數= 165.0\n",
      "女孩身高中位數= 169.0\n",
      "男孩身高眾數= 165\n",
      "女孩身高眾數= 170\n",
      "男孩身高全距= 39\n",
      "女孩身高全距= 34\n",
      "男孩身高變異數= 84.89210526315789\n",
      "男孩身高變異數= 95.37894736842104\n",
      "男孩身高標準差= 9.213691185575838\n",
      "女孩身高標準差= 9.766214587465353\n",
      "男孩身高90百分位數= 176.1\n",
      "男孩身高50百分位數= 165.0\n",
      "男孩身高20百分位數= 159.8\n",
      "女孩身高90百分位數= 182.1\n",
      "女孩身高50百分位數= 169.0\n",
      "女孩身高20百分位數= 159.8\n",
      "男孩身高偏度= -0.47132127317376954\n",
      "男孩身高峰度= 0.19395882957876331\n",
      "女孩身高偏度= 0.05985321129365068\n",
      "女孩身高峰度= -0.8203607083948947\n"
     ]
    }
   ],
   "source": [
    "#Q1:試著用今天所教的內容，如何描述這兩組資料的樣態?\n",
    "#暗示:  分別計算男生和女生的統計量\n",
    "# 計算統計量_平均數的方法\n",
    "mean_boy=np.mean(boys)\n",
    "print(\"男孩身高平均=\",mean_boy)\n",
    "mean_girl=np.mean(girls)\n",
    "print(\"女孩身高平均=\",mean_girl)\n",
    "\n",
    "# 計算統計量_中位數的方法\n",
    "np_median_boy=np.median(boys,axis=None)\n",
    "print(\"男孩身高中位數=\",np_median_boy)\n",
    "np_median_girl=np.median(girls,axis=None)\n",
    "print(\"女孩身高中位數=\",np_median_girl)\n",
    "\n",
    "#計算統計量_眾數\n",
    "mode_boy=stats.mode(boys,axis=None)\n",
    "print(\"男孩身高眾數=\",mode_boy[0][0])\n",
    "\n",
    "mode_girl=stats.mode(girls,axis=None)\n",
    "print(\"女孩身高眾數=\",mode_girl[0][0])\n",
    "\n",
    "#計算全距:\n",
    "def rangeV(x): \n",
    "  return(max(x)-min(x))\n",
    "    \n",
    "print(\"男孩身高全距=\",rangeV(boys))\n",
    "print(\"女孩身高全距=\",rangeV(girls))\n",
    "\n",
    "#計算變異數\n",
    "print(\"男孩身高變異數=\",np.var(boys,ddof=1))\n",
    "print(\"男孩身高變異數=\",np.var(girls,ddof=1))\n",
    "\n",
    "\n",
    "#計算標準差\n",
    "std_boy=np.std(boys,ddof=1)\n",
    "print(\"男孩身高標準差=\",std_boy)\n",
    "std_girl=np.std(girls,ddof=1)\n",
    "print(\"女孩身高標準差=\",std_girl)\n",
    "\n",
    "## python 百分位數\n",
    "#np\n",
    "print(\"男孩身高90百分位數=\",np.percentile(boys, 90))\n",
    "print(\"男孩身高50百分位數=\",np.percentile(boys, 50))\n",
    "print(\"男孩身高20百分位數=\",np.percentile(boys, 20))\n",
    "\n",
    "print(\"女孩身高90百分位數=\",np.percentile(girls, 90))\n",
    "print(\"女孩身高50百分位數=\",np.percentile(girls, 50))\n",
    "print(\"女孩身高20百分位數=\",np.percentile(girls, 20))\n",
    "\n",
    "\n",
    "#計算峰度和偏度\n",
    "print(\"男孩身高偏度=\",stats.skew(boys))\n",
    "print(\"男孩身高峰度=\",stats.kurtosis(boys))\n",
    "\n",
    "print(\"女孩身高偏度=\",stats.skew(girls))\n",
    "print(\"女孩身高峰度=\",stats.kurtosis(girls))"
   ]
  },
  {
   "cell_type": "code",
   "execution_count": 4,
   "metadata": {},
   "outputs": [
    {
     "name": "stdout",
     "output_type": "stream",
     "text": [
      "男孩身高平均= 165.95\n",
      "女孩身高平均= 168.3\n"
     ]
    }
   ],
   "source": [
    "#Q2: 請問男生和女生在平均身高上誰比較高? \n",
    "mean_boy=np.mean(boys)\n",
    "print(\"男孩身高平均=\",mean_boy)\n",
    "mean_girl=np.mean(girls)\n",
    "print(\"女孩身高平均=\",mean_girl)\n",
    "#女生平均而言比較高"
   ]
  },
  {
   "cell_type": "code",
   "execution_count": 6,
   "metadata": {},
   "outputs": [
    {
     "data": {
      "image/png": "[encoded data removed]",
      "text/plain": [
       "<Figure size 432x288 with 1 Axes>"
      ]
     },
     "metadata": {
      "needs_background": "light"
     },
     "output_type": "display_data"
    }
   ],
   "source": [
    "#Q3:請問第二題的答案和日常生活中觀察的一致嗎? 如果不一致，你覺得原因可能為何? \n",
    "plt.hist(boys,alpha=.4)\n",
    "plt.hist(girls,color=sns.desaturate(\"indianred\", .8),alpha=.4)\n",
    "plt.axvline(x=mean_girl,color=sns.desaturate(\"indianred\", .8))\n",
    "plt.axvline(x=mean_boy)\n",
    "plt.show()\n",
    "\n",
    "#可以看到圖示的分布，女生並不是一個很符常態，取的樣本數不夠，導致跟結果不一樣"
   ]
  }
 ],
 "metadata": {
  "colab": {
   "name": "Day33.YOLO 細節理解 - 網路輸出的後處理_HW.ipynb",
   "provenance": []
  },
  "kernelspec": {
   "display_name": "Python 3",
   "language": "python",
   "name": "python3"
  },
  "language_info": {
   "codemirror_mode": {
    "name": "ipython",
    "version": 3
   },
   "file_extension": ".py",
   "mimetype": "text/x-python",
   "name": "python",
   "nbconvert_exporter": "python",
   "pygments_lexer": "ipython3",
   "version": "3.8.5"
  }
 },
 "nbformat": 4,
 "nbformat_minor": 1
}
